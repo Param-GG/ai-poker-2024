{
 "cells": [
  {
   "cell_type": "code",
   "execution_count": 2,
   "metadata": {},
   "outputs": [],
   "source": [
    "import pandas as pd\n",
    "import numpy as np\n",
    "import os"
   ]
  },
  {
   "cell_type": "code",
   "execution_count": 3,
   "metadata": {},
   "outputs": [],
   "source": [
    "df = pd.read_csv(\"PreFlop.csv\")"
   ]
  },
  {
   "cell_type": "code",
   "execution_count": 4,
   "metadata": {},
   "outputs": [
    {
     "data": {
      "text/html": [
       "<div>\n",
       "<style scoped>\n",
       "    .dataframe tbody tr th:only-of-type {\n",
       "        vertical-align: middle;\n",
       "    }\n",
       "\n",
       "    .dataframe tbody tr th {\n",
       "        vertical-align: top;\n",
       "    }\n",
       "\n",
       "    .dataframe thead th {\n",
       "        text-align: right;\n",
       "    }\n",
       "</style>\n",
       "<table border=\"1\" class=\"dataframe\">\n",
       "  <thead>\n",
       "    <tr style=\"text-align: right;\">\n",
       "      <th></th>\n",
       "      <th>Game ID</th>\n",
       "      <th>Button Seat</th>\n",
       "      <th>Players</th>\n",
       "      <th>Stack_Size</th>\n",
       "      <th>MyCards1</th>\n",
       "      <th>MyCards2</th>\n",
       "      <th>PreFlop_Action</th>\n",
       "      <th>PreFlop_Action_Amount</th>\n",
       "    </tr>\n",
       "  </thead>\n",
       "  <tbody>\n",
       "    <tr>\n",
       "      <th>count</th>\n",
       "      <td>2.905260e+05</td>\n",
       "      <td>290526.000000</td>\n",
       "      <td>290526.000000</td>\n",
       "      <td>290526.000000</td>\n",
       "      <td>290526.000000</td>\n",
       "      <td>290526.000000</td>\n",
       "      <td>290526.000000</td>\n",
       "      <td>290526.000000</td>\n",
       "    </tr>\n",
       "    <tr>\n",
       "      <th>mean</th>\n",
       "      <td>7.875419e+08</td>\n",
       "      <td>3.915794</td>\n",
       "      <td>3.911230</td>\n",
       "      <td>80.613862</td>\n",
       "      <td>4.514632</td>\n",
       "      <td>4.498950</td>\n",
       "      <td>0.741046</td>\n",
       "      <td>0.896828</td>\n",
       "    </tr>\n",
       "    <tr>\n",
       "      <th>std</th>\n",
       "      <td>2.310752e+07</td>\n",
       "      <td>2.101172</td>\n",
       "      <td>2.098404</td>\n",
       "      <td>90.662315</td>\n",
       "      <td>11.725215</td>\n",
       "      <td>11.691881</td>\n",
       "      <td>1.432975</td>\n",
       "      <td>6.563276</td>\n",
       "    </tr>\n",
       "    <tr>\n",
       "      <th>min</th>\n",
       "      <td>7.188949e+08</td>\n",
       "      <td>1.000000</td>\n",
       "      <td>1.000000</td>\n",
       "      <td>0.100000</td>\n",
       "      <td>0.000000</td>\n",
       "      <td>0.000000</td>\n",
       "      <td>0.000000</td>\n",
       "      <td>0.000000</td>\n",
       "    </tr>\n",
       "    <tr>\n",
       "      <th>25%</th>\n",
       "      <td>7.893372e+08</td>\n",
       "      <td>2.000000</td>\n",
       "      <td>2.000000</td>\n",
       "      <td>26.050000</td>\n",
       "      <td>0.000000</td>\n",
       "      <td>0.000000</td>\n",
       "      <td>0.000000</td>\n",
       "      <td>0.000000</td>\n",
       "    </tr>\n",
       "    <tr>\n",
       "      <th>50%</th>\n",
       "      <td>7.927712e+08</td>\n",
       "      <td>4.000000</td>\n",
       "      <td>4.000000</td>\n",
       "      <td>50.860000</td>\n",
       "      <td>0.000000</td>\n",
       "      <td>0.000000</td>\n",
       "      <td>0.000000</td>\n",
       "      <td>0.000000</td>\n",
       "    </tr>\n",
       "    <tr>\n",
       "      <th>75%</th>\n",
       "      <td>8.043487e+08</td>\n",
       "      <td>5.000000</td>\n",
       "      <td>5.000000</td>\n",
       "      <td>100.000000</td>\n",
       "      <td>0.000000</td>\n",
       "      <td>0.000000</td>\n",
       "      <td>0.000000</td>\n",
       "      <td>0.000000</td>\n",
       "    </tr>\n",
       "    <tr>\n",
       "      <th>max</th>\n",
       "      <td>8.089437e+08</td>\n",
       "      <td>9.000000</td>\n",
       "      <td>9.000000</td>\n",
       "      <td>1524.100000</td>\n",
       "      <td>52.000000</td>\n",
       "      <td>52.000000</td>\n",
       "      <td>5.000000</td>\n",
       "      <td>646.550000</td>\n",
       "    </tr>\n",
       "  </tbody>\n",
       "</table>\n",
       "</div>"
      ],
      "text/plain": [
       "            Game ID    Button Seat        Players     Stack_Size  \\\n",
       "count  2.905260e+05  290526.000000  290526.000000  290526.000000   \n",
       "mean   7.875419e+08       3.915794       3.911230      80.613862   \n",
       "std    2.310752e+07       2.101172       2.098404      90.662315   \n",
       "min    7.188949e+08       1.000000       1.000000       0.100000   \n",
       "25%    7.893372e+08       2.000000       2.000000      26.050000   \n",
       "50%    7.927712e+08       4.000000       4.000000      50.860000   \n",
       "75%    8.043487e+08       5.000000       5.000000     100.000000   \n",
       "max    8.089437e+08       9.000000       9.000000    1524.100000   \n",
       "\n",
       "            MyCards1       MyCards2  PreFlop_Action  PreFlop_Action_Amount  \n",
       "count  290526.000000  290526.000000   290526.000000          290526.000000  \n",
       "mean        4.514632       4.498950        0.741046               0.896828  \n",
       "std        11.725215      11.691881        1.432975               6.563276  \n",
       "min         0.000000       0.000000        0.000000               0.000000  \n",
       "25%         0.000000       0.000000        0.000000               0.000000  \n",
       "50%         0.000000       0.000000        0.000000               0.000000  \n",
       "75%         0.000000       0.000000        0.000000               0.000000  \n",
       "max        52.000000      52.000000        5.000000             646.550000  "
      ]
     },
     "execution_count": 4,
     "metadata": {},
     "output_type": "execute_result"
    }
   ],
   "source": [
    "df = df[df['Button Seat'] != 0]\n",
    "\n",
    "df[df.isna()] = 0\n",
    "\n",
    "df.describe()\n"
   ]
  },
  {
   "cell_type": "code",
   "execution_count": 5,
   "metadata": {},
   "outputs": [
    {
     "data": {
      "text/html": [
       "<div>\n",
       "<style scoped>\n",
       "    .dataframe tbody tr th:only-of-type {\n",
       "        vertical-align: middle;\n",
       "    }\n",
       "\n",
       "    .dataframe tbody tr th {\n",
       "        vertical-align: top;\n",
       "    }\n",
       "\n",
       "    .dataframe thead th {\n",
       "        text-align: right;\n",
       "    }\n",
       "</style>\n",
       "<table border=\"1\" class=\"dataframe\">\n",
       "  <thead>\n",
       "    <tr style=\"text-align: right;\">\n",
       "      <th></th>\n",
       "      <th>Game ID</th>\n",
       "      <th>Button Seat</th>\n",
       "      <th>Players</th>\n",
       "      <th>Stack_Size</th>\n",
       "      <th>MyCards1</th>\n",
       "      <th>MyCards2</th>\n",
       "      <th>PreFlop_Action</th>\n",
       "      <th>PreFlop_Action_Amount</th>\n",
       "    </tr>\n",
       "  </thead>\n",
       "  <tbody>\n",
       "    <tr>\n",
       "      <th>247558</th>\n",
       "      <td>718894932</td>\n",
       "      <td>4</td>\n",
       "      <td>4</td>\n",
       "      <td>205.4</td>\n",
       "      <td>0</td>\n",
       "      <td>0</td>\n",
       "      <td>0.0</td>\n",
       "      <td>0.0</td>\n",
       "    </tr>\n",
       "    <tr>\n",
       "      <th>247559</th>\n",
       "      <td>718894932</td>\n",
       "      <td>4</td>\n",
       "      <td>5</td>\n",
       "      <td>80.0</td>\n",
       "      <td>52</td>\n",
       "      <td>18</td>\n",
       "      <td>5.0</td>\n",
       "      <td>76.0</td>\n",
       "    </tr>\n",
       "  </tbody>\n",
       "</table>\n",
       "</div>"
      ],
      "text/plain": [
       "          Game ID  Button Seat  Players  Stack_Size  MyCards1  MyCards2  \\\n",
       "247558  718894932            4        4       205.4         0         0   \n",
       "247559  718894932            4        5        80.0        52        18   \n",
       "\n",
       "        PreFlop_Action  PreFlop_Action_Amount  \n",
       "247558             0.0                    0.0  \n",
       "247559             5.0                   76.0  "
      ]
     },
     "execution_count": 5,
     "metadata": {},
     "output_type": "execute_result"
    }
   ],
   "source": [
    "df.loc[df['Game ID'] == 718894932]"
   ]
  },
  {
   "cell_type": "code",
   "execution_count": 6,
   "metadata": {},
   "outputs": [],
   "source": [
    "max_num_players = df['Players'].max()\n",
    "max_num_features = len(df.columns) - 1"
   ]
  },
  {
   "cell_type": "code",
   "execution_count": 7,
   "metadata": {},
   "outputs": [
    {
     "name": "stderr",
     "output_type": "stream",
     "text": [
      "C:\\Users\\Param\\AppData\\Local\\Temp\\ipykernel_16520\\1484596587.py:1: DeprecationWarning: DataFrameGroupBy.apply operated on the grouping columns. This behavior is deprecated, and in a future version of pandas the grouping columns will be excluded from the operation. Either pass `include_groups=False` to exclude the groupings or explicitly select the grouping columns after groupby to silence this warning.\n",
      "  df = df.groupby('Game ID').apply(lambda x: x.drop('Game ID',axis=1).values)\n"
     ]
    },
    {
     "data": {
      "text/plain": [
       "Game ID\n",
       "718894932    [[4.0, 4.0, 205.4, 0.0, 0.0, 0.0, 0.0], [4.0, ...\n",
       "718895155    [[5.0, 4.0, 200.0, 0.0, 0.0, 0.0, 0.0], [5.0, ...\n",
       "718928069    [[3.0, 1.0, 174.47, 0.0, 0.0, 0.0, 0.0], [3.0,...\n",
       "718928859    [[5.0, 1.0, 174.47, 0.0, 0.0, 0.0, 0.0], [5.0,...\n",
       "718930029    [[6.0, 1.0, 174.47, 0.0, 0.0, 0.0, 0.0], [6.0,...\n",
       "                                   ...                        \n",
       "808941048    [[6.0, 1.0, 10.0, 47.0, 15.0, 0.0, 0.0], [6.0,...\n",
       "808941103    [[9.0, 1.0, 40.0, 0.0, 0.0, 4.0, 10.5], [9.0, ...\n",
       "808941818    [[1.0, 1.0, 46.0, 0.0, 0.0, 4.0, 2.0], [1.0, 2...\n",
       "808942446    [[2.0, 1.0, 48.28, 0.0, 0.0, 0.0, 0.0], [2.0, ...\n",
       "808943744    [[3.0, 1.0, 48.28, 0.0, 0.0, 2.0, 3.0], [3.0, ...\n",
       "Length: 49586, dtype: object"
      ]
     },
     "execution_count": 7,
     "metadata": {},
     "output_type": "execute_result"
    }
   ],
   "source": [
    "df = df.groupby('Game ID').apply(lambda x: x.drop('Game ID',axis=1).values)\n",
    "df\n",
    "\n",
    "## Grouped acc to Game ID\n",
    "## Number of total data rows == number of games\n",
    "## Number of arrays in each row == Number of players in that game\n",
    "## Number of values in each array == Number of features "
   ]
  },
  {
   "cell_type": "code",
   "execution_count": 8,
   "metadata": {},
   "outputs": [
    {
     "data": {
      "text/plain": [
       "array([[  4. ,   4. , 205.4,   0. ,   0. ,   0. ,   0. ],\n",
       "       [  4. ,   5. ,  80. ,  52. ,  18. ,   5. ,  76. ]])"
      ]
     },
     "execution_count": 8,
     "metadata": {},
     "output_type": "execute_result"
    }
   ],
   "source": [
    "df.loc[718894932]"
   ]
  },
  {
   "cell_type": "code",
   "execution_count": 9,
   "metadata": {},
   "outputs": [],
   "source": [
    "import torch\n",
    "import torch.nn as nn\n",
    "import torch.optim as optim\n",
    "import numpy as np"
   ]
  },
  {
   "cell_type": "code",
   "execution_count": 10,
   "metadata": {},
   "outputs": [
    {
     "name": "stdout",
     "output_type": "stream",
     "text": [
      "49586 \n",
      " 9 \n",
      " 7\n"
     ]
    }
   ],
   "source": [
    "num_games = df.count()\n",
    "print(num_games, '\\n', max_num_players, '\\n', max_num_features)"
   ]
  },
  {
   "cell_type": "code",
   "execution_count": 11,
   "metadata": {},
   "outputs": [],
   "source": [
    "padded_matrices = []\n",
    "mask_matrices = []\n",
    "\n",
    "for matrix in df:\n",
    "    num_players = matrix.shape[0]\n",
    "    pad_rows = max_num_players - num_players\n",
    "\n",
    "    if pad_rows > 0:\n",
    "        padded_matrix = np.pad(matrix, ((0,pad_rows), (0,0)), mode='constant', constant_values=0)\n",
    "    else:\n",
    "        padded_matrix = matrix\n",
    "\n",
    "    padded_matrices.append(padded_matrix)\n",
    "\n",
    "    mask_matrix = np.zeros((max_num_players, max_num_features))\n",
    "    mask_matrix[:num_players, :] = 1\n",
    "    mask_matrices.append(mask_matrix)"
   ]
  },
  {
   "cell_type": "code",
   "execution_count": 12,
   "metadata": {},
   "outputs": [
    {
     "name": "stdout",
     "output_type": "stream",
     "text": [
      "[array([[  4. ,   4. , 205.4,   0. ,   0. ,   0. ,   0. ],\n",
      "       [  4. ,   5. ,  80. ,  52. ,  18. ,   5. ,  76. ],\n",
      "       [  0. ,   0. ,   0. ,   0. ,   0. ,   0. ,   0. ],\n",
      "       [  0. ,   0. ,   0. ,   0. ,   0. ,   0. ,   0. ],\n",
      "       [  0. ,   0. ,   0. ,   0. ,   0. ,   0. ,   0. ],\n",
      "       [  0. ,   0. ,   0. ,   0. ,   0. ,   0. ,   0. ],\n",
      "       [  0. ,   0. ,   0. ,   0. ,   0. ,   0. ,   0. ],\n",
      "       [  0. ,   0. ,   0. ,   0. ,   0. ,   0. ,   0. ],\n",
      "       [  0. ,   0. ,   0. ,   0. ,   0. ,   0. ,   0. ]]), array([[  5.,   4., 200.,   0.,   0.,   0.,   0.],\n",
      "       [  5.,   5.,  88.,  33.,  46.,   5.,  86.],\n",
      "       [  0.,   0.,   0.,   0.,   0.,   0.,   0.],\n",
      "       [  0.,   0.,   0.,   0.,   0.,   0.,   0.],\n",
      "       [  0.,   0.,   0.,   0.,   0.,   0.,   0.],\n",
      "       [  0.,   0.,   0.,   0.,   0.,   0.,   0.],\n",
      "       [  0.,   0.,   0.,   0.,   0.,   0.,   0.],\n",
      "       [  0.,   0.,   0.,   0.,   0.,   0.,   0.],\n",
      "       [  0.,   0.,   0.,   0.,   0.,   0.,   0.]]), array([[  3.  ,   1.  , 174.47,   0.  ,   0.  ,   0.  ,   0.  ],\n",
      "       [  3.  ,   3.  , 225.55,   0.  ,   0.  ,   4.  ,   8.  ],\n",
      "       [  3.  ,   5.  , 570.98,   0.  ,   0.  ,   0.  ,   0.  ],\n",
      "       [  3.  ,   6.  ,  80.  ,  46.  ,  16.  ,   0.  ,   0.  ],\n",
      "       [  3.  ,   7.  ,  96.  ,   0.  ,   0.  ,   0.  ,   0.  ],\n",
      "       [  3.  ,   8.  , 200.  ,   0.  ,   0.  ,   0.  ,   0.  ],\n",
      "       [  3.  ,   9.  ,  49.  ,   0.  ,   0.  ,   0.  ,   0.  ],\n",
      "       [  0.  ,   0.  ,   0.  ,   0.  ,   0.  ,   0.  ,   0.  ],\n",
      "       [  0.  ,   0.  ,   0.  ,   0.  ,   0.  ,   0.  ,   0.  ]])]\n",
      "[array([[1., 1., 1., 1., 1., 1., 1.],\n",
      "       [1., 1., 1., 1., 1., 1., 1.],\n",
      "       [0., 0., 0., 0., 0., 0., 0.],\n",
      "       [0., 0., 0., 0., 0., 0., 0.],\n",
      "       [0., 0., 0., 0., 0., 0., 0.],\n",
      "       [0., 0., 0., 0., 0., 0., 0.],\n",
      "       [0., 0., 0., 0., 0., 0., 0.],\n",
      "       [0., 0., 0., 0., 0., 0., 0.],\n",
      "       [0., 0., 0., 0., 0., 0., 0.]]), array([[1., 1., 1., 1., 1., 1., 1.],\n",
      "       [1., 1., 1., 1., 1., 1., 1.],\n",
      "       [0., 0., 0., 0., 0., 0., 0.],\n",
      "       [0., 0., 0., 0., 0., 0., 0.],\n",
      "       [0., 0., 0., 0., 0., 0., 0.],\n",
      "       [0., 0., 0., 0., 0., 0., 0.],\n",
      "       [0., 0., 0., 0., 0., 0., 0.],\n",
      "       [0., 0., 0., 0., 0., 0., 0.],\n",
      "       [0., 0., 0., 0., 0., 0., 0.]]), array([[1., 1., 1., 1., 1., 1., 1.],\n",
      "       [1., 1., 1., 1., 1., 1., 1.],\n",
      "       [1., 1., 1., 1., 1., 1., 1.],\n",
      "       [1., 1., 1., 1., 1., 1., 1.],\n",
      "       [1., 1., 1., 1., 1., 1., 1.],\n",
      "       [1., 1., 1., 1., 1., 1., 1.],\n",
      "       [1., 1., 1., 1., 1., 1., 1.],\n",
      "       [0., 0., 0., 0., 0., 0., 0.],\n",
      "       [0., 0., 0., 0., 0., 0., 0.]])]\n"
     ]
    }
   ],
   "source": [
    "print(padded_matrices[0:3])\n",
    "print(mask_matrices[0:3])"
   ]
  },
  {
   "cell_type": "code",
   "execution_count": 13,
   "metadata": {},
   "outputs": [
    {
     "name": "stdout",
     "output_type": "stream",
     "text": [
      "[[[1. 1. 1. 1. 1. 1. 1.]\n",
      "  [1. 1. 1. 1. 1. 1. 1.]\n",
      "  [0. 0. 0. 0. 0. 0. 0.]\n",
      "  [0. 0. 0. 0. 0. 0. 0.]\n",
      "  [0. 0. 0. 0. 0. 0. 0.]\n",
      "  [0. 0. 0. 0. 0. 0. 0.]\n",
      "  [0. 0. 0. 0. 0. 0. 0.]\n",
      "  [0. 0. 0. 0. 0. 0. 0.]\n",
      "  [0. 0. 0. 0. 0. 0. 0.]]\n",
      "\n",
      " [[1. 1. 1. 1. 1. 1. 1.]\n",
      "  [1. 1. 1. 1. 1. 1. 1.]\n",
      "  [0. 0. 0. 0. 0. 0. 0.]\n",
      "  [0. 0. 0. 0. 0. 0. 0.]\n",
      "  [0. 0. 0. 0. 0. 0. 0.]\n",
      "  [0. 0. 0. 0. 0. 0. 0.]\n",
      "  [0. 0. 0. 0. 0. 0. 0.]\n",
      "  [0. 0. 0. 0. 0. 0. 0.]\n",
      "  [0. 0. 0. 0. 0. 0. 0.]]]\n",
      "Padded tensor shape (49586, 9, 7)\n",
      "Mask tensor shape (49586, 9, 7)\n"
     ]
    }
   ],
   "source": [
    "padded_tensors = np.array(padded_matrices)\n",
    "mask_tensors = np.array(mask_matrices)\n",
    "\n",
    "print(mask_tensors[0:2])\n",
    "\n",
    "print(\"Padded tensor shape\", padded_tensors.shape)\n",
    "print(\"Mask tensor shape\", mask_tensors.shape)"
   ]
  },
  {
   "cell_type": "code",
   "execution_count": 14,
   "metadata": {},
   "outputs": [
    {
     "name": "stdout",
     "output_type": "stream",
     "text": [
      "padded tensor torch.Size([49586, 9, 7])\n",
      "mask tensor torch.Size([49586, 9, 7])\n"
     ]
    }
   ],
   "source": [
    "padded_tensors = torch.tensor(padded_tensors, dtype = torch.float32)\n",
    "mask_tensors = torch.tensor(mask_tensors, dtype= torch.float32)\n",
    "\n",
    "print('padded tensor', padded_tensors.shape)\n",
    "print('mask tensor', mask_tensors.shape)"
   ]
  },
  {
   "cell_type": "code",
   "execution_count": 15,
   "metadata": {},
   "outputs": [
    {
     "name": "stdout",
     "output_type": "stream",
     "text": [
      "tensor([[  4.0000,   1.0000, 200.3000,   0.0000,   0.0000,   4.0000,   2.5000],\n",
      "        [  4.0000,   2.0000,  27.2600,   0.0000,   0.0000,   0.0000,   0.0000],\n",
      "        [  4.0000,   3.0000, 109.1800,   0.0000,   0.0000,   0.0000,   0.0000],\n",
      "        [  4.0000,   4.0000, 249.8600,   0.0000,   0.0000,   0.0000,   0.0000],\n",
      "        [  4.0000,   5.0000, 100.5000,   0.0000,   0.0000,   0.0000,   0.0000],\n",
      "        [  4.0000,   6.0000,  40.0000,   4.0000,  15.0000,   0.0000,   0.0000],\n",
      "        [  0.0000,   0.0000,   0.0000,   0.0000,   0.0000,   0.0000,   0.0000],\n",
      "        [  0.0000,   0.0000,   0.0000,   0.0000,   0.0000,   0.0000,   0.0000],\n",
      "        [  0.0000,   0.0000,   0.0000,   0.0000,   0.0000,   0.0000,   0.0000]]) tensor([[1., 1., 1., 1., 1., 1., 1.],\n",
      "        [1., 1., 1., 1., 1., 1., 1.],\n",
      "        [1., 1., 1., 1., 1., 1., 1.],\n",
      "        [1., 1., 1., 1., 1., 1., 1.],\n",
      "        [1., 1., 1., 1., 1., 1., 1.],\n",
      "        [1., 1., 1., 1., 1., 1., 1.],\n",
      "        [0., 0., 0., 0., 0., 0., 0.],\n",
      "        [0., 0., 0., 0., 0., 0., 0.],\n",
      "        [0., 0., 0., 0., 0., 0., 0.]]) 39669 39669\n",
      "tensor([[  2.0000,   1.0000, 118.0700,   0.0000,   0.0000,   0.0000,   0.0000],\n",
      "        [  2.0000,   2.0000, 100.0000,   0.0000,   0.0000,   0.0000,   0.0000],\n",
      "        [  2.0000,   3.0000,  43.0500,  17.0000,   1.0000,   0.0000,   0.0000],\n",
      "        [  2.0000,   4.0000,  59.9400,   0.0000,   0.0000,   0.0000,   0.0000],\n",
      "        [  2.0000,   5.0000, 100.0000,   0.0000,   0.0000,   0.0000,   0.0000],\n",
      "        [  2.0000,   6.0000,  50.1000,   0.0000,   0.0000,   0.0000,   0.0000],\n",
      "        [  0.0000,   0.0000,   0.0000,   0.0000,   0.0000,   0.0000,   0.0000],\n",
      "        [  0.0000,   0.0000,   0.0000,   0.0000,   0.0000,   0.0000,   0.0000],\n",
      "        [  0.0000,   0.0000,   0.0000,   0.0000,   0.0000,   0.0000,   0.0000]]) tensor([[1., 1., 1., 1., 1., 1., 1.],\n",
      "        [1., 1., 1., 1., 1., 1., 1.],\n",
      "        [1., 1., 1., 1., 1., 1., 1.],\n",
      "        [1., 1., 1., 1., 1., 1., 1.],\n",
      "        [1., 1., 1., 1., 1., 1., 1.],\n",
      "        [1., 1., 1., 1., 1., 1., 1.],\n",
      "        [0., 0., 0., 0., 0., 0., 0.],\n",
      "        [0., 0., 0., 0., 0., 0., 0.],\n",
      "        [0., 0., 0., 0., 0., 0., 0.]]) 9917 9917\n",
      "<class 'torch.Tensor'> <class 'torch.Tensor'> <class 'torch.Tensor'> <class 'torch.Tensor'>\n"
     ]
    }
   ],
   "source": [
    "# Shuffling both tensors\n",
    "\n",
    "indices = torch.randperm(num_games)\n",
    "\n",
    "shuffled_input_data = padded_tensors[indices]\n",
    "shufled_masks = mask_tensors[indices]\n",
    "\n",
    "train_ratio = 0.8\n",
    "\n",
    "num_train = round(num_games * train_ratio)\n",
    "num_test = num_games - num_train\n",
    "\n",
    "train_data, test_data = torch.split(shuffled_input_data, [num_train, num_test])\n",
    "train_mask, test_mask = torch.split(shufled_masks, [num_train, num_test])\n",
    "\n",
    "print(train_data[50], train_mask[50], len(train_mask), len(train_data))\n",
    "print(test_data[60], test_mask[60], len(test_mask), len(test_data))\n",
    "print(type(train_data), type(test_data), type(train_mask), type(test_mask))"
   ]
  },
  {
   "cell_type": "code",
   "execution_count": 16,
   "metadata": {},
   "outputs": [],
   "source": [
    "# Define the deep learning model architecture\n",
    "class PokerModel(nn.Module):\n",
    "    def __init__(self, input_size, hidden_size, action_output_size):\n",
    "        super(PokerModel, self).__init__()\n",
    "        self.fc1 = nn.Linear(input_size, hidden_size)\n",
    "        self.relu = nn.ReLU()\n",
    "        self.fc_action = nn.Linear(hidden_size, action_output_size)  # Output layer for action prediction\n",
    "        self.fc_chips = nn.Linear(hidden_size, 1)    # Output layer for continuous chips value prediction \n",
    "    \n",
    "    def forward(self, x):\n",
    "        x = self.fc1(x)\n",
    "        x = self.relu(x)\n",
    "        action_output = self.fc_action(x)\n",
    "        chips_output = self.fc_chips(x)\n",
    "        return action_output, chips_output"
   ]
  },
  {
   "cell_type": "code",
   "execution_count": 17,
   "metadata": {},
   "outputs": [],
   "source": [
    "# Define model parameters\n",
    "input_size = max_num_features  # Number of features\n",
    "hidden_size = 64\n",
    "action_output_size = 6  # Actions ranging from 0 to 5\n",
    "\n",
    "# Initialize the model\n",
    "model = PokerModel(input_size, hidden_size, action_output_size)"
   ]
  },
  {
   "cell_type": "code",
   "execution_count": 18,
   "metadata": {},
   "outputs": [],
   "source": [
    "# Define loss functions for action and chips predictions\n",
    "action_criterion = nn.CrossEntropyLoss()  # Cross-entropy loss for classification\n",
    "chips_criterion = nn.MSELoss()            # Mean squared error loss for regression\n",
    "\n",
    "# Define optimizer\n",
    "optimizer = optim.Adam(model.parameters(), lr=0.001)  # Adam optimizer"
   ]
  },
  {
   "cell_type": "code",
   "execution_count": 19,
   "metadata": {},
   "outputs": [],
   "source": [
    "# Train the model\n",
    "\n",
    "def train_model(model, data, mask, target_actions, target_chips, optimizer, action_criterion, chips_criterion, num_epochs=10):\n",
    "    model.train()\n",
    "    for epoch in range(num_epochs):\n",
    "        total_action_loss = 0.0\n",
    "        total_chips_loss = 0.0\n",
    "        num_samples = 0\n",
    "        \n",
    "        for train_matrix, target_action, target_chip in zip(data, target_actions, target_chips):\n",
    "            optimizer.zero_grad()\n",
    "            \n",
    "            # Forward pass\n",
    "            action_output, chips_output = model(train_matrix)\n",
    "            \n",
    "            # Action and chips of my player (Assuming for now 1st row corresponds to us)\n",
    "            your_action = action_output[0]\n",
    "            your_chips = chips_output[0]\n",
    "\n",
    "            # Calculate losses\n",
    "            action_loss = action_criterion(your_action.unsqueeze(0), target_action.unsqueeze(0))\n",
    "            chips_loss = chips_criterion(your_chips.squeeze(), target_chip)\n",
    "            \n",
    "            # Backward pass\n",
    "            loss = action_loss + chips_loss\n",
    "            loss.backward()\n",
    "            optimizer.step()\n",
    "            \n",
    "            # Update total losses and number of samples\n",
    "            total_action_loss += action_loss.item()\n",
    "            total_chips_loss += chips_loss.item()\n",
    "            num_samples += 1\n",
    "        \n",
    "        # Calculate average losses\n",
    "        avg_action_loss = total_action_loss / num_samples\n",
    "        avg_chips_loss = total_chips_loss / num_samples\n",
    "        \n",
    "        print(f'Epoch [{epoch+1}/{num_epochs}], Action Loss: {avg_action_loss:.4f}, Chips Loss: {avg_chips_loss:.4f}')"
   ]
  },
  {
   "cell_type": "code",
   "execution_count": 20,
   "metadata": {},
   "outputs": [],
   "source": [
    "# Extracting the target action and chips for the player corresponding to yourself from each game matrix\n",
    "\n",
    "target_actions = []\n",
    "target_chips = []\n",
    "\n",
    "for game_matrix in train_data:\n",
    "    # Extract the target action and chips for your player (assuming it's the last row)\n",
    "    your_action = int(game_matrix.numpy()[0, -2])  # Replace 'target_action' with the actual key in your dataset\n",
    "    your_chip = game_matrix.numpy()[0, -1]      # Replace 'target_chip' with the actual key in your dataset\n",
    "\n",
    "    target_actions.append(your_action)\n",
    "    target_chips.append(your_chip)\n",
    "\n",
    "# Convert lists to tensors\n",
    "target_actions = torch.tensor(target_actions, dtype=torch.long)\n",
    "target_chips = torch.tensor(target_chips, dtype=torch.float32)"
   ]
  },
  {
   "cell_type": "code",
   "execution_count": 21,
   "metadata": {},
   "outputs": [
    {
     "name": "stdout",
     "output_type": "stream",
     "text": [
      "torch.Size([39669])\n"
     ]
    }
   ],
   "source": [
    "print(target_actions.shape)"
   ]
  },
  {
   "cell_type": "code",
   "execution_count": 22,
   "metadata": {},
   "outputs": [],
   "source": [
    "test_actions = []\n",
    "test_chips = []\n",
    "\n",
    "for game_matrix in test_data:\n",
    "    # Extract the target action and chips for your player (assuming it's the last row)\n",
    "    your_action = int(game_matrix.numpy()[0, -2])  # Replace 'target_action' with the actual key in your dataset\n",
    "    your_chip = game_matrix.numpy()[0, -1]      # Replace 'target_chip' with the actual key in your dataset\n",
    "\n",
    "    test_actions.append(your_action)\n",
    "    test_chips.append(your_chip)\n",
    "\n",
    "# Convert lists to tensors\n",
    "test_actions = torch.tensor(test_actions, dtype=torch.long)\n",
    "test_chips = torch.tensor(test_chips, dtype=torch.float32)"
   ]
  },
  {
   "cell_type": "code",
   "execution_count": 23,
   "metadata": {},
   "outputs": [
    {
     "name": "stdout",
     "output_type": "stream",
     "text": [
      "torch.Size([9917])\n"
     ]
    }
   ],
   "source": [
    "print(test_actions.shape)"
   ]
  },
  {
   "cell_type": "code",
   "execution_count": 24,
   "metadata": {},
   "outputs": [
    {
     "name": "stdout",
     "output_type": "stream",
     "text": [
      "Epoch [1/10], Action Loss: 0.2875, Chips Loss: 12.4712\n",
      "Epoch [2/10], Action Loss: 0.0920, Chips Loss: 0.7072\n"
     ]
    },
    {
     "ename": "KeyboardInterrupt",
     "evalue": "",
     "output_type": "error",
     "traceback": [
      "\u001b[1;31m---------------------------------------------------------------------------\u001b[0m",
      "\u001b[1;31mKeyboardInterrupt\u001b[0m                         Traceback (most recent call last)",
      "Cell \u001b[1;32mIn[24], line 2\u001b[0m\n\u001b[0;32m      1\u001b[0m \u001b[38;5;66;03m# Example usage of train_model function\u001b[39;00m\n\u001b[1;32m----> 2\u001b[0m \u001b[43mtrain_model\u001b[49m\u001b[43m(\u001b[49m\u001b[43mmodel\u001b[49m\u001b[43m,\u001b[49m\u001b[43m \u001b[49m\u001b[43mtrain_data\u001b[49m\u001b[43m,\u001b[49m\u001b[43m \u001b[49m\u001b[43mtrain_mask\u001b[49m\u001b[43m,\u001b[49m\u001b[43m \u001b[49m\u001b[43mtarget_actions\u001b[49m\u001b[38;5;241;43m=\u001b[39;49m\u001b[43mtarget_actions\u001b[49m\u001b[43m,\u001b[49m\n\u001b[0;32m      3\u001b[0m \u001b[43m            \u001b[49m\u001b[43mtarget_chips\u001b[49m\u001b[38;5;241;43m=\u001b[39;49m\u001b[43m \u001b[49m\u001b[43mtarget_chips\u001b[49m\u001b[43m,\u001b[49m\u001b[43m \u001b[49m\u001b[43moptimizer\u001b[49m\u001b[38;5;241;43m=\u001b[39;49m\u001b[43m \u001b[49m\u001b[43moptimizer\u001b[49m\u001b[43m,\u001b[49m\u001b[43m \u001b[49m\u001b[43maction_criterion\u001b[49m\u001b[38;5;241;43m=\u001b[39;49m\u001b[43m \u001b[49m\u001b[43maction_criterion\u001b[49m\u001b[43m,\u001b[49m\n\u001b[0;32m      4\u001b[0m \u001b[43m             \u001b[49m\u001b[43mchips_criterion\u001b[49m\u001b[38;5;241;43m=\u001b[39;49m\u001b[43m \u001b[49m\u001b[43mchips_criterion\u001b[49m\u001b[43m,\u001b[49m\u001b[43m \u001b[49m\u001b[43mnum_epochs\u001b[49m\u001b[38;5;241;43m=\u001b[39;49m\u001b[38;5;241;43m10\u001b[39;49m\u001b[43m)\u001b[49m\n",
      "Cell \u001b[1;32mIn[19], line 14\u001b[0m, in \u001b[0;36mtrain_model\u001b[1;34m(model, data, mask, target_actions, target_chips, optimizer, action_criterion, chips_criterion, num_epochs)\u001b[0m\n\u001b[0;32m     11\u001b[0m optimizer\u001b[38;5;241m.\u001b[39mzero_grad()\n\u001b[0;32m     13\u001b[0m \u001b[38;5;66;03m# Forward pass\u001b[39;00m\n\u001b[1;32m---> 14\u001b[0m action_output, chips_output \u001b[38;5;241m=\u001b[39m \u001b[43mmodel\u001b[49m\u001b[43m(\u001b[49m\u001b[43mtrain_matrix\u001b[49m\u001b[43m)\u001b[49m\n\u001b[0;32m     16\u001b[0m \u001b[38;5;66;03m# Action and chips of my player (Assuming for now 1st row corresponds to us)\u001b[39;00m\n\u001b[0;32m     17\u001b[0m your_action \u001b[38;5;241m=\u001b[39m action_output[\u001b[38;5;241m0\u001b[39m]\n",
      "File \u001b[1;32md:\\myprogs\\Python\\ai_poker_bot\\.venv\\Lib\\site-packages\\torch\\nn\\modules\\module.py:1511\u001b[0m, in \u001b[0;36mModule._wrapped_call_impl\u001b[1;34m(self, *args, **kwargs)\u001b[0m\n\u001b[0;32m   1509\u001b[0m     \u001b[38;5;28;01mreturn\u001b[39;00m \u001b[38;5;28mself\u001b[39m\u001b[38;5;241m.\u001b[39m_compiled_call_impl(\u001b[38;5;241m*\u001b[39margs, \u001b[38;5;241m*\u001b[39m\u001b[38;5;241m*\u001b[39mkwargs)  \u001b[38;5;66;03m# type: ignore[misc]\u001b[39;00m\n\u001b[0;32m   1510\u001b[0m \u001b[38;5;28;01melse\u001b[39;00m:\n\u001b[1;32m-> 1511\u001b[0m     \u001b[38;5;28;01mreturn\u001b[39;00m \u001b[38;5;28;43mself\u001b[39;49m\u001b[38;5;241;43m.\u001b[39;49m\u001b[43m_call_impl\u001b[49m\u001b[43m(\u001b[49m\u001b[38;5;241;43m*\u001b[39;49m\u001b[43margs\u001b[49m\u001b[43m,\u001b[49m\u001b[43m \u001b[49m\u001b[38;5;241;43m*\u001b[39;49m\u001b[38;5;241;43m*\u001b[39;49m\u001b[43mkwargs\u001b[49m\u001b[43m)\u001b[49m\n",
      "File \u001b[1;32md:\\myprogs\\Python\\ai_poker_bot\\.venv\\Lib\\site-packages\\torch\\nn\\modules\\module.py:1520\u001b[0m, in \u001b[0;36mModule._call_impl\u001b[1;34m(self, *args, **kwargs)\u001b[0m\n\u001b[0;32m   1515\u001b[0m \u001b[38;5;66;03m# If we don't have any hooks, we want to skip the rest of the logic in\u001b[39;00m\n\u001b[0;32m   1516\u001b[0m \u001b[38;5;66;03m# this function, and just call forward.\u001b[39;00m\n\u001b[0;32m   1517\u001b[0m \u001b[38;5;28;01mif\u001b[39;00m \u001b[38;5;129;01mnot\u001b[39;00m (\u001b[38;5;28mself\u001b[39m\u001b[38;5;241m.\u001b[39m_backward_hooks \u001b[38;5;129;01mor\u001b[39;00m \u001b[38;5;28mself\u001b[39m\u001b[38;5;241m.\u001b[39m_backward_pre_hooks \u001b[38;5;129;01mor\u001b[39;00m \u001b[38;5;28mself\u001b[39m\u001b[38;5;241m.\u001b[39m_forward_hooks \u001b[38;5;129;01mor\u001b[39;00m \u001b[38;5;28mself\u001b[39m\u001b[38;5;241m.\u001b[39m_forward_pre_hooks\n\u001b[0;32m   1518\u001b[0m         \u001b[38;5;129;01mor\u001b[39;00m _global_backward_pre_hooks \u001b[38;5;129;01mor\u001b[39;00m _global_backward_hooks\n\u001b[0;32m   1519\u001b[0m         \u001b[38;5;129;01mor\u001b[39;00m _global_forward_hooks \u001b[38;5;129;01mor\u001b[39;00m _global_forward_pre_hooks):\n\u001b[1;32m-> 1520\u001b[0m     \u001b[38;5;28;01mreturn\u001b[39;00m \u001b[43mforward_call\u001b[49m\u001b[43m(\u001b[49m\u001b[38;5;241;43m*\u001b[39;49m\u001b[43margs\u001b[49m\u001b[43m,\u001b[49m\u001b[43m \u001b[49m\u001b[38;5;241;43m*\u001b[39;49m\u001b[38;5;241;43m*\u001b[39;49m\u001b[43mkwargs\u001b[49m\u001b[43m)\u001b[49m\n\u001b[0;32m   1522\u001b[0m \u001b[38;5;28;01mtry\u001b[39;00m:\n\u001b[0;32m   1523\u001b[0m     result \u001b[38;5;241m=\u001b[39m \u001b[38;5;28;01mNone\u001b[39;00m\n",
      "Cell \u001b[1;32mIn[16], line 12\u001b[0m, in \u001b[0;36mPokerModel.forward\u001b[1;34m(self, x)\u001b[0m\n\u001b[0;32m     10\u001b[0m \u001b[38;5;28;01mdef\u001b[39;00m \u001b[38;5;21mforward\u001b[39m(\u001b[38;5;28mself\u001b[39m, x):\n\u001b[0;32m     11\u001b[0m     x \u001b[38;5;241m=\u001b[39m \u001b[38;5;28mself\u001b[39m\u001b[38;5;241m.\u001b[39mfc1(x)\n\u001b[1;32m---> 12\u001b[0m     x \u001b[38;5;241m=\u001b[39m \u001b[38;5;28;43mself\u001b[39;49m\u001b[38;5;241;43m.\u001b[39;49m\u001b[43mrelu\u001b[49m\u001b[43m(\u001b[49m\u001b[43mx\u001b[49m\u001b[43m)\u001b[49m\n\u001b[0;32m     13\u001b[0m     action_output \u001b[38;5;241m=\u001b[39m \u001b[38;5;28mself\u001b[39m\u001b[38;5;241m.\u001b[39mfc_action(x)\n\u001b[0;32m     14\u001b[0m     chips_output \u001b[38;5;241m=\u001b[39m \u001b[38;5;28mself\u001b[39m\u001b[38;5;241m.\u001b[39mfc_chips(x)\n",
      "File \u001b[1;32md:\\myprogs\\Python\\ai_poker_bot\\.venv\\Lib\\site-packages\\torch\\nn\\modules\\module.py:1511\u001b[0m, in \u001b[0;36mModule._wrapped_call_impl\u001b[1;34m(self, *args, **kwargs)\u001b[0m\n\u001b[0;32m   1509\u001b[0m     \u001b[38;5;28;01mreturn\u001b[39;00m \u001b[38;5;28mself\u001b[39m\u001b[38;5;241m.\u001b[39m_compiled_call_impl(\u001b[38;5;241m*\u001b[39margs, \u001b[38;5;241m*\u001b[39m\u001b[38;5;241m*\u001b[39mkwargs)  \u001b[38;5;66;03m# type: ignore[misc]\u001b[39;00m\n\u001b[0;32m   1510\u001b[0m \u001b[38;5;28;01melse\u001b[39;00m:\n\u001b[1;32m-> 1511\u001b[0m     \u001b[38;5;28;01mreturn\u001b[39;00m \u001b[38;5;28;43mself\u001b[39;49m\u001b[38;5;241;43m.\u001b[39;49m\u001b[43m_call_impl\u001b[49m\u001b[43m(\u001b[49m\u001b[38;5;241;43m*\u001b[39;49m\u001b[43margs\u001b[49m\u001b[43m,\u001b[49m\u001b[43m \u001b[49m\u001b[38;5;241;43m*\u001b[39;49m\u001b[38;5;241;43m*\u001b[39;49m\u001b[43mkwargs\u001b[49m\u001b[43m)\u001b[49m\n",
      "File \u001b[1;32md:\\myprogs\\Python\\ai_poker_bot\\.venv\\Lib\\site-packages\\torch\\nn\\modules\\module.py:1520\u001b[0m, in \u001b[0;36mModule._call_impl\u001b[1;34m(self, *args, **kwargs)\u001b[0m\n\u001b[0;32m   1515\u001b[0m \u001b[38;5;66;03m# If we don't have any hooks, we want to skip the rest of the logic in\u001b[39;00m\n\u001b[0;32m   1516\u001b[0m \u001b[38;5;66;03m# this function, and just call forward.\u001b[39;00m\n\u001b[0;32m   1517\u001b[0m \u001b[38;5;28;01mif\u001b[39;00m \u001b[38;5;129;01mnot\u001b[39;00m (\u001b[38;5;28mself\u001b[39m\u001b[38;5;241m.\u001b[39m_backward_hooks \u001b[38;5;129;01mor\u001b[39;00m \u001b[38;5;28mself\u001b[39m\u001b[38;5;241m.\u001b[39m_backward_pre_hooks \u001b[38;5;129;01mor\u001b[39;00m \u001b[38;5;28mself\u001b[39m\u001b[38;5;241m.\u001b[39m_forward_hooks \u001b[38;5;129;01mor\u001b[39;00m \u001b[38;5;28mself\u001b[39m\u001b[38;5;241m.\u001b[39m_forward_pre_hooks\n\u001b[0;32m   1518\u001b[0m         \u001b[38;5;129;01mor\u001b[39;00m _global_backward_pre_hooks \u001b[38;5;129;01mor\u001b[39;00m _global_backward_hooks\n\u001b[0;32m   1519\u001b[0m         \u001b[38;5;129;01mor\u001b[39;00m _global_forward_hooks \u001b[38;5;129;01mor\u001b[39;00m _global_forward_pre_hooks):\n\u001b[1;32m-> 1520\u001b[0m     \u001b[38;5;28;01mreturn\u001b[39;00m \u001b[43mforward_call\u001b[49m\u001b[43m(\u001b[49m\u001b[38;5;241;43m*\u001b[39;49m\u001b[43margs\u001b[49m\u001b[43m,\u001b[49m\u001b[43m \u001b[49m\u001b[38;5;241;43m*\u001b[39;49m\u001b[38;5;241;43m*\u001b[39;49m\u001b[43mkwargs\u001b[49m\u001b[43m)\u001b[49m\n\u001b[0;32m   1522\u001b[0m \u001b[38;5;28;01mtry\u001b[39;00m:\n\u001b[0;32m   1523\u001b[0m     result \u001b[38;5;241m=\u001b[39m \u001b[38;5;28;01mNone\u001b[39;00m\n",
      "File \u001b[1;32md:\\myprogs\\Python\\ai_poker_bot\\.venv\\Lib\\site-packages\\torch\\nn\\modules\\activation.py:101\u001b[0m, in \u001b[0;36mReLU.forward\u001b[1;34m(self, input)\u001b[0m\n\u001b[0;32m    100\u001b[0m \u001b[38;5;28;01mdef\u001b[39;00m \u001b[38;5;21mforward\u001b[39m(\u001b[38;5;28mself\u001b[39m, \u001b[38;5;28minput\u001b[39m: Tensor) \u001b[38;5;241m-\u001b[39m\u001b[38;5;241m>\u001b[39m Tensor:\n\u001b[1;32m--> 101\u001b[0m     \u001b[38;5;28;01mreturn\u001b[39;00m \u001b[43mF\u001b[49m\u001b[38;5;241;43m.\u001b[39;49m\u001b[43mrelu\u001b[49m\u001b[43m(\u001b[49m\u001b[38;5;28;43minput\u001b[39;49m\u001b[43m,\u001b[49m\u001b[43m \u001b[49m\u001b[43minplace\u001b[49m\u001b[38;5;241;43m=\u001b[39;49m\u001b[38;5;28;43mself\u001b[39;49m\u001b[38;5;241;43m.\u001b[39;49m\u001b[43minplace\u001b[49m\u001b[43m)\u001b[49m\n",
      "File \u001b[1;32md:\\myprogs\\Python\\ai_poker_bot\\.venv\\Lib\\site-packages\\torch\\nn\\functional.py:1473\u001b[0m, in \u001b[0;36mrelu\u001b[1;34m(input, inplace)\u001b[0m\n\u001b[0;32m   1471\u001b[0m     result \u001b[38;5;241m=\u001b[39m torch\u001b[38;5;241m.\u001b[39mrelu_(\u001b[38;5;28minput\u001b[39m)\n\u001b[0;32m   1472\u001b[0m \u001b[38;5;28;01melse\u001b[39;00m:\n\u001b[1;32m-> 1473\u001b[0m     result \u001b[38;5;241m=\u001b[39m \u001b[43mtorch\u001b[49m\u001b[38;5;241;43m.\u001b[39;49m\u001b[43mrelu\u001b[49m\u001b[43m(\u001b[49m\u001b[38;5;28;43minput\u001b[39;49m\u001b[43m)\u001b[49m\n\u001b[0;32m   1474\u001b[0m \u001b[38;5;28;01mreturn\u001b[39;00m result\n",
      "\u001b[1;31mKeyboardInterrupt\u001b[0m: "
     ]
    }
   ],
   "source": [
    "# Example usage of train_model function\n",
    "train_model(model, train_data, train_mask, target_actions=target_actions,\n",
    "            target_chips= target_chips, optimizer= optimizer, action_criterion= action_criterion,\n",
    "             chips_criterion= chips_criterion, num_epochs=10)\n"
   ]
  },
  {
   "cell_type": "code",
   "execution_count": null,
   "metadata": {},
   "outputs": [
    {
     "ename": "NameError",
     "evalue": "name 'torch' is not defined",
     "output_type": "error",
     "traceback": [
      "\u001b[1;31m---------------------------------------------------------------------------\u001b[0m",
      "\u001b[1;31mNameError\u001b[0m                                 Traceback (most recent call last)",
      "Cell \u001b[1;32mIn[1], line 1\u001b[0m\n\u001b[1;32m----> 1\u001b[0m \u001b[38;5;28;01mwith\u001b[39;00m \u001b[43mtorch\u001b[49m\u001b[38;5;241m.\u001b[39mno_grad():\n\u001b[0;32m      2\u001b[0m     action_predictions, chips_predictions \u001b[38;5;241m=\u001b[39m model(test_data)\n\u001b[0;32m      4\u001b[0m     your_action_prediction \u001b[38;5;241m=\u001b[39m action_predictions[\u001b[38;5;241m0\u001b[39m]\n",
      "\u001b[1;31mNameError\u001b[0m: name 'torch' is not defined"
     ]
    }
   ],
   "source": [
    "with torch.no_grad():\n",
    "    action_predictions, chips_predictions = model(test_data)\n",
    "\n",
    "    your_action_prediction = action_predictions[0]\n",
    "    print(your_action_prediction)"
   ]
  },
  {
   "cell_type": "code",
   "execution_count": 72,
   "metadata": {},
   "outputs": [],
   "source": [
    "# Evaluating model\n",
    "\n",
    "def evaluate_model(model, test_input_data_tensor, test_mask_tensor, test_actions, test_chips, action_criterion, chips_criterion):\n",
    "    model.eval()  # Set the model to evaluation mode\n",
    "    with torch.no_grad():\n",
    "        for input_data, mask in zip(test_input_data_tensor, test_mask_tensor):\n",
    "            # Forward pass\n",
    "            action_output, chips_output = model(input_data)\n",
    "            print(action_output.shape)\n",
    "            \n",
    "            # Action and chips of my player (Assuming for now 1st row corresponds to us)\n",
    "            your_action = action_output[0]\n",
    "            your_chips = chips_output[0]\n",
    "\n",
    "            # Calculate losses\n",
    "            action_loss = action_criterion(your_action, test_actions)\n",
    "            chips_loss = chips_criterion(your_chips.squeeze(), test_chips)\n",
    "            \n",
    "            # Backward pass\n",
    "            loss = action_loss + chips_loss\n",
    "            loss.backward()\n",
    "            optimizer.step()\n",
    "            \n",
    "            # Update total losses and number of samples\n",
    "            total_action_loss += action_loss.item()\n",
    "            total_chips_loss += chips_loss.item()\n",
    "            num_samples += 1\n",
    "        \n",
    "        # Calculate average losses\n",
    "        avg_action_loss = total_action_loss / num_samples\n",
    "        avg_chips_loss = total_chips_loss / num_samples\n",
    "\n",
    "    print(f'Action loss = ', {avg_action_loss}, '\\n Chips loss = ', {avg_chips_loss})\n",
    "\n"
   ]
  },
  {
   "cell_type": "code",
   "execution_count": 73,
   "metadata": {},
   "outputs": [
    {
     "name": "stdout",
     "output_type": "stream",
     "text": [
      "torch.Size([9, 6])\n",
      "torch.Size([1, 39669])\n"
     ]
    },
    {
     "ename": "RuntimeError",
     "evalue": "size mismatch (got input: [6], target: [39669])",
     "output_type": "error",
     "traceback": [
      "\u001b[1;31m---------------------------------------------------------------------------\u001b[0m",
      "\u001b[1;31mRuntimeError\u001b[0m                              Traceback (most recent call last)",
      "Cell \u001b[1;32mIn[73], line 2\u001b[0m\n\u001b[0;32m      1\u001b[0m \u001b[38;5;66;03m# Testing model \u001b[39;00m\n\u001b[1;32m----> 2\u001b[0m \u001b[43mevaluate_model\u001b[49m\u001b[43m(\u001b[49m\u001b[43mmodel\u001b[49m\u001b[43m,\u001b[49m\u001b[43m \u001b[49m\u001b[43mtest_data\u001b[49m\u001b[43m,\u001b[49m\u001b[43m \u001b[49m\u001b[43mtest_mask\u001b[49m\u001b[43m,\u001b[49m\u001b[43m \u001b[49m\u001b[43mtest_actions\u001b[49m\u001b[38;5;241;43m=\u001b[39;49m\u001b[43mtarget_actions\u001b[49m\u001b[43m,\u001b[49m\n\u001b[0;32m      3\u001b[0m \u001b[43m                          \u001b[49m\u001b[43mtest_chips\u001b[49m\u001b[38;5;241;43m=\u001b[39;49m\u001b[43m \u001b[49m\u001b[43mtarget_chips\u001b[49m\u001b[43m,\u001b[49m\u001b[43m \u001b[49m\u001b[43maction_criterion\u001b[49m\u001b[38;5;241;43m=\u001b[39;49m\u001b[43m \u001b[49m\u001b[43maction_criterion\u001b[49m\u001b[43m,\u001b[49m\n\u001b[0;32m      4\u001b[0m \u001b[43m                           \u001b[49m\u001b[43mchips_criterion\u001b[49m\u001b[38;5;241;43m=\u001b[39;49m\u001b[43m \u001b[49m\u001b[43mchips_criterion\u001b[49m\u001b[43m)\u001b[49m\n",
      "Cell \u001b[1;32mIn[72], line 17\u001b[0m, in \u001b[0;36mevaluate_model\u001b[1;34m(model, test_input_data_tensor, test_mask_tensor, test_actions, test_chips, action_criterion, chips_criterion)\u001b[0m\n\u001b[0;32m     14\u001b[0m \u001b[38;5;28mprint\u001b[39m(test_actions\u001b[38;5;241m.\u001b[39munsqueeze(\u001b[38;5;241m0\u001b[39m)\u001b[38;5;241m.\u001b[39mshape)\n\u001b[0;32m     16\u001b[0m \u001b[38;5;66;03m# Calculate losses\u001b[39;00m\n\u001b[1;32m---> 17\u001b[0m action_loss \u001b[38;5;241m=\u001b[39m \u001b[43maction_criterion\u001b[49m\u001b[43m(\u001b[49m\u001b[43myour_action\u001b[49m\u001b[43m,\u001b[49m\u001b[43m \u001b[49m\u001b[43mtest_actions\u001b[49m\u001b[43m)\u001b[49m\n\u001b[0;32m     18\u001b[0m chips_loss \u001b[38;5;241m=\u001b[39m chips_criterion(your_chips\u001b[38;5;241m.\u001b[39msqueeze(), test_chips)\n\u001b[0;32m     20\u001b[0m \u001b[38;5;66;03m# Backward pass\u001b[39;00m\n",
      "File \u001b[1;32md:\\myprogs\\Python\\ai_poker_bot\\.venv\\Lib\\site-packages\\torch\\nn\\modules\\module.py:1511\u001b[0m, in \u001b[0;36mModule._wrapped_call_impl\u001b[1;34m(self, *args, **kwargs)\u001b[0m\n\u001b[0;32m   1509\u001b[0m     \u001b[38;5;28;01mreturn\u001b[39;00m \u001b[38;5;28mself\u001b[39m\u001b[38;5;241m.\u001b[39m_compiled_call_impl(\u001b[38;5;241m*\u001b[39margs, \u001b[38;5;241m*\u001b[39m\u001b[38;5;241m*\u001b[39mkwargs)  \u001b[38;5;66;03m# type: ignore[misc]\u001b[39;00m\n\u001b[0;32m   1510\u001b[0m \u001b[38;5;28;01melse\u001b[39;00m:\n\u001b[1;32m-> 1511\u001b[0m     \u001b[38;5;28;01mreturn\u001b[39;00m \u001b[38;5;28;43mself\u001b[39;49m\u001b[38;5;241;43m.\u001b[39;49m\u001b[43m_call_impl\u001b[49m\u001b[43m(\u001b[49m\u001b[38;5;241;43m*\u001b[39;49m\u001b[43margs\u001b[49m\u001b[43m,\u001b[49m\u001b[43m \u001b[49m\u001b[38;5;241;43m*\u001b[39;49m\u001b[38;5;241;43m*\u001b[39;49m\u001b[43mkwargs\u001b[49m\u001b[43m)\u001b[49m\n",
      "File \u001b[1;32md:\\myprogs\\Python\\ai_poker_bot\\.venv\\Lib\\site-packages\\torch\\nn\\modules\\module.py:1520\u001b[0m, in \u001b[0;36mModule._call_impl\u001b[1;34m(self, *args, **kwargs)\u001b[0m\n\u001b[0;32m   1515\u001b[0m \u001b[38;5;66;03m# If we don't have any hooks, we want to skip the rest of the logic in\u001b[39;00m\n\u001b[0;32m   1516\u001b[0m \u001b[38;5;66;03m# this function, and just call forward.\u001b[39;00m\n\u001b[0;32m   1517\u001b[0m \u001b[38;5;28;01mif\u001b[39;00m \u001b[38;5;129;01mnot\u001b[39;00m (\u001b[38;5;28mself\u001b[39m\u001b[38;5;241m.\u001b[39m_backward_hooks \u001b[38;5;129;01mor\u001b[39;00m \u001b[38;5;28mself\u001b[39m\u001b[38;5;241m.\u001b[39m_backward_pre_hooks \u001b[38;5;129;01mor\u001b[39;00m \u001b[38;5;28mself\u001b[39m\u001b[38;5;241m.\u001b[39m_forward_hooks \u001b[38;5;129;01mor\u001b[39;00m \u001b[38;5;28mself\u001b[39m\u001b[38;5;241m.\u001b[39m_forward_pre_hooks\n\u001b[0;32m   1518\u001b[0m         \u001b[38;5;129;01mor\u001b[39;00m _global_backward_pre_hooks \u001b[38;5;129;01mor\u001b[39;00m _global_backward_hooks\n\u001b[0;32m   1519\u001b[0m         \u001b[38;5;129;01mor\u001b[39;00m _global_forward_hooks \u001b[38;5;129;01mor\u001b[39;00m _global_forward_pre_hooks):\n\u001b[1;32m-> 1520\u001b[0m     \u001b[38;5;28;01mreturn\u001b[39;00m \u001b[43mforward_call\u001b[49m\u001b[43m(\u001b[49m\u001b[38;5;241;43m*\u001b[39;49m\u001b[43margs\u001b[49m\u001b[43m,\u001b[49m\u001b[43m \u001b[49m\u001b[38;5;241;43m*\u001b[39;49m\u001b[38;5;241;43m*\u001b[39;49m\u001b[43mkwargs\u001b[49m\u001b[43m)\u001b[49m\n\u001b[0;32m   1522\u001b[0m \u001b[38;5;28;01mtry\u001b[39;00m:\n\u001b[0;32m   1523\u001b[0m     result \u001b[38;5;241m=\u001b[39m \u001b[38;5;28;01mNone\u001b[39;00m\n",
      "File \u001b[1;32md:\\myprogs\\Python\\ai_poker_bot\\.venv\\Lib\\site-packages\\torch\\nn\\modules\\loss.py:1179\u001b[0m, in \u001b[0;36mCrossEntropyLoss.forward\u001b[1;34m(self, input, target)\u001b[0m\n\u001b[0;32m   1178\u001b[0m \u001b[38;5;28;01mdef\u001b[39;00m \u001b[38;5;21mforward\u001b[39m(\u001b[38;5;28mself\u001b[39m, \u001b[38;5;28minput\u001b[39m: Tensor, target: Tensor) \u001b[38;5;241m-\u001b[39m\u001b[38;5;241m>\u001b[39m Tensor:\n\u001b[1;32m-> 1179\u001b[0m     \u001b[38;5;28;01mreturn\u001b[39;00m \u001b[43mF\u001b[49m\u001b[38;5;241;43m.\u001b[39;49m\u001b[43mcross_entropy\u001b[49m\u001b[43m(\u001b[49m\u001b[38;5;28;43minput\u001b[39;49m\u001b[43m,\u001b[49m\u001b[43m \u001b[49m\u001b[43mtarget\u001b[49m\u001b[43m,\u001b[49m\u001b[43m \u001b[49m\u001b[43mweight\u001b[49m\u001b[38;5;241;43m=\u001b[39;49m\u001b[38;5;28;43mself\u001b[39;49m\u001b[38;5;241;43m.\u001b[39;49m\u001b[43mweight\u001b[49m\u001b[43m,\u001b[49m\n\u001b[0;32m   1180\u001b[0m \u001b[43m                           \u001b[49m\u001b[43mignore_index\u001b[49m\u001b[38;5;241;43m=\u001b[39;49m\u001b[38;5;28;43mself\u001b[39;49m\u001b[38;5;241;43m.\u001b[39;49m\u001b[43mignore_index\u001b[49m\u001b[43m,\u001b[49m\u001b[43m \u001b[49m\u001b[43mreduction\u001b[49m\u001b[38;5;241;43m=\u001b[39;49m\u001b[38;5;28;43mself\u001b[39;49m\u001b[38;5;241;43m.\u001b[39;49m\u001b[43mreduction\u001b[49m\u001b[43m,\u001b[49m\n\u001b[0;32m   1181\u001b[0m \u001b[43m                           \u001b[49m\u001b[43mlabel_smoothing\u001b[49m\u001b[38;5;241;43m=\u001b[39;49m\u001b[38;5;28;43mself\u001b[39;49m\u001b[38;5;241;43m.\u001b[39;49m\u001b[43mlabel_smoothing\u001b[49m\u001b[43m)\u001b[49m\n",
      "File \u001b[1;32md:\\myprogs\\Python\\ai_poker_bot\\.venv\\Lib\\site-packages\\torch\\nn\\functional.py:3059\u001b[0m, in \u001b[0;36mcross_entropy\u001b[1;34m(input, target, weight, size_average, ignore_index, reduce, reduction, label_smoothing)\u001b[0m\n\u001b[0;32m   3057\u001b[0m \u001b[38;5;28;01mif\u001b[39;00m size_average \u001b[38;5;129;01mis\u001b[39;00m \u001b[38;5;129;01mnot\u001b[39;00m \u001b[38;5;28;01mNone\u001b[39;00m \u001b[38;5;129;01mor\u001b[39;00m reduce \u001b[38;5;129;01mis\u001b[39;00m \u001b[38;5;129;01mnot\u001b[39;00m \u001b[38;5;28;01mNone\u001b[39;00m:\n\u001b[0;32m   3058\u001b[0m     reduction \u001b[38;5;241m=\u001b[39m _Reduction\u001b[38;5;241m.\u001b[39mlegacy_get_string(size_average, reduce)\n\u001b[1;32m-> 3059\u001b[0m \u001b[38;5;28;01mreturn\u001b[39;00m \u001b[43mtorch\u001b[49m\u001b[38;5;241;43m.\u001b[39;49m\u001b[43m_C\u001b[49m\u001b[38;5;241;43m.\u001b[39;49m\u001b[43m_nn\u001b[49m\u001b[38;5;241;43m.\u001b[39;49m\u001b[43mcross_entropy_loss\u001b[49m\u001b[43m(\u001b[49m\u001b[38;5;28;43minput\u001b[39;49m\u001b[43m,\u001b[49m\u001b[43m \u001b[49m\u001b[43mtarget\u001b[49m\u001b[43m,\u001b[49m\u001b[43m \u001b[49m\u001b[43mweight\u001b[49m\u001b[43m,\u001b[49m\u001b[43m \u001b[49m\u001b[43m_Reduction\u001b[49m\u001b[38;5;241;43m.\u001b[39;49m\u001b[43mget_enum\u001b[49m\u001b[43m(\u001b[49m\u001b[43mreduction\u001b[49m\u001b[43m)\u001b[49m\u001b[43m,\u001b[49m\u001b[43m \u001b[49m\u001b[43mignore_index\u001b[49m\u001b[43m,\u001b[49m\u001b[43m \u001b[49m\u001b[43mlabel_smoothing\u001b[49m\u001b[43m)\u001b[49m\n",
      "\u001b[1;31mRuntimeError\u001b[0m: size mismatch (got input: [6], target: [39669])"
     ]
    }
   ],
   "source": [
    "# Testing model \n",
    "evaluate_model(model, test_data, test_mask, test_actions=target_actions,\n",
    "                          test_chips= target_chips, action_criterion= action_criterion,\n",
    "                           chips_criterion= chips_criterion)"
   ]
  }
 ],
 "metadata": {
  "kernelspec": {
   "display_name": ".venv",
   "language": "python",
   "name": "python3"
  },
  "language_info": {
   "codemirror_mode": {
    "name": "ipython",
    "version": 3
   },
   "file_extension": ".py",
   "mimetype": "text/x-python",
   "name": "python",
   "nbconvert_exporter": "python",
   "pygments_lexer": "ipython3",
   "version": "3.11.8"
  }
 },
 "nbformat": 4,
 "nbformat_minor": 2
}
